import pandas as pd
data_sheet1=pd.read_csv('flipkart_com-ecommerce_sample.csv')
print("welcome to flipkart online shopping:")
print("Enter the user name:")
p=input()
print("enter the password:")
l=input()
print("you are succesfully logged in and hope you enjoy your shopping")
f=int(input())
i=0
while(i!=f):
    df=input()
    print(data_sheet1[data_sheet1['product_name']==df])
    i+=1
print("1.Excellent")
print("2.Average")
print("3.satisfactory")
print("4.poor")
ch=int(input())
if(ch==1):
       print("Hurrah...We are so glad for your feedback")
elif(ch==2):
       print("we are glad to receive your response")
elif(ch==3):
       print("we are happy to know your feedbaack")
elif(ch==4):
       print("we sincerely apoligize for our inconvince and hope we improve our facilities")
print("we humbly request you to give us some suggestions to improve our service")
s=input()
print("happy to receive your suggestions we will try to implement them")
print("thank you for shopping and Hope you visit again")
